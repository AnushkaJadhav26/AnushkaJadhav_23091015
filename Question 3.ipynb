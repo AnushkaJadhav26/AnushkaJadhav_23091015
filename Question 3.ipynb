{
 "cells": [
  {
   "cell_type": "markdown",
   "id": "3c98967d",
   "metadata": {},
   "source": [
    "# Name:- Anushka Pradeep Jadhav\n",
    "# Roll No.:- 23091015"
   ]
  },
  {
   "cell_type": "markdown",
   "id": "e33fd99b",
   "metadata": {},
   "source": [
    "Q3. Singular Value Decomposition (SVD):"
   ]
  },
  {
   "cell_type": "markdown",
   "id": "206afca6",
   "metadata": {},
   "source": [
    "Perform Singular Value Decomposition on the matrix A obtained in Question 2. Separate and print\n",
    "matrices U, Σ, and 𝑉^t . Verify that A equals the product of U, Σ, and 𝑉^t . Additionally, find the rank 2\n",
    "and rank 3 approximations of matrix A."
   ]
  },
  {
   "cell_type": "code",
   "execution_count": 1,
   "id": "e5d7d9ff",
   "metadata": {},
   "outputs": [],
   "source": [
    "#Importing the necessary library\n",
    "import numpy as np\n",
    "import sympy as sp"
   ]
  },
  {
   "cell_type": "code",
   "execution_count": 2,
   "id": "4021e7c4",
   "metadata": {},
   "outputs": [
    {
     "data": {
      "text/latex": [
       "$\\displaystyle \\left[\\begin{matrix}8 & 5 & 5 & 7 & 0\\\\7 & 5 & 6 & 1 & 7\\\\0 & 4 & 9 & 7 & 5\\\\3 & 6 & 8 & 2 & 1\\\\1 & 0 & 5 & 2 & 2\\end{matrix}\\right]$"
      ],
      "text/plain": [
       "Matrix([\n",
       "[8, 5, 5, 7, 0],\n",
       "[7, 5, 6, 1, 7],\n",
       "[0, 4, 9, 7, 5],\n",
       "[3, 6, 8, 2, 1],\n",
       "[1, 0, 5, 2, 2]])"
      ]
     },
     "execution_count": 2,
     "metadata": {},
     "output_type": "execute_result"
    }
   ],
   "source": [
    "np.random.seed(15)  #Random seed as the last two digits of your roll number 23091015\n",
    "A = np.random.randint(0,10,(5,5)) #Random Matrix A of order 5*5 with entries between integer 0 and 9\n",
    "sp.Matrix(A)"
   ]
  },
  {
   "cell_type": "code",
   "execution_count": 3,
   "id": "2757c8d7",
   "metadata": {},
   "outputs": [],
   "source": [
    "U,s,Vt = np.linalg.svd(A) #Singular Value Decomposition"
   ]
  },
  {
   "cell_type": "code",
   "execution_count": 4,
   "id": "a63d5d05",
   "metadata": {},
   "outputs": [
    {
     "data": {
      "text/latex": [
       "$\\displaystyle \\left[\\begin{matrix}-0.49 & 0.59 & 0.6 & 0.23 & -0.05\\\\-0.5 & 0.3 & -0.78 & 0.21 & 0.08\\\\-0.52 & -0.7 & 0.17 & 0.29 & 0.36\\\\-0.44 & -0.04 & 0.02 & -0.9 & 0.01\\\\-0.22 & -0.27 & -0.03 & 0.11 & -0.93\\end{matrix}\\right]$"
      ],
      "text/plain": [
       "Matrix([\n",
       "[-0.49,  0.59,   0.6, 0.23, -0.05],\n",
       "[ -0.5,   0.3, -0.78, 0.21,  0.08],\n",
       "[-0.52,  -0.7,  0.17, 0.29,  0.36],\n",
       "[-0.44, -0.04,  0.02, -0.9,  0.01],\n",
       "[-0.22, -0.27, -0.03, 0.11, -0.93]])"
      ]
     },
     "execution_count": 4,
     "metadata": {},
     "output_type": "execute_result"
    }
   ],
   "source": [
    "sp.Matrix(np.round(U,2)) #Matrix U"
   ]
  },
  {
   "cell_type": "code",
   "execution_count": 5,
   "id": "873dc487",
   "metadata": {},
   "outputs": [
    {
     "data": {
      "text/latex": [
       "$\\displaystyle \\left[\\begin{matrix}22.76\\\\7.66\\\\6.57\\\\4.18\\\\2.21\\end{matrix}\\right]$"
      ],
      "text/plain": [
       "Matrix([\n",
       "[22.76],\n",
       "[ 7.66],\n",
       "[ 6.57],\n",
       "[ 4.18],\n",
       "[ 2.21]])"
      ]
     },
     "execution_count": 5,
     "metadata": {},
     "output_type": "execute_result"
    }
   ],
   "source": [
    "sp.Matrix(np.round(s,2)) #Matrix sigma"
   ]
  },
  {
   "cell_type": "code",
   "execution_count": 6,
   "id": "8cafa955",
   "metadata": {},
   "outputs": [
    {
     "data": {
      "text/latex": [
       "$\\displaystyle \\left[\\begin{matrix}-0.39 & -0.42 & -0.65 & -0.39 & -0.31\\\\0.84 & 0.18 & -0.42 & -0.14 & -0.26\\\\-0.1 & -0.01 & -0.02 & 0.7 & -0.71\\\\0.18 & -0.48 & -0.38 & 0.55 & 0.54\\\\-0.32 & 0.74 & -0.51 & 0.18 & 0.22\\end{matrix}\\right]$"
      ],
      "text/plain": [
       "Matrix([\n",
       "[-0.39, -0.42, -0.65, -0.39, -0.31],\n",
       "[ 0.84,  0.18, -0.42, -0.14, -0.26],\n",
       "[ -0.1, -0.01, -0.02,   0.7, -0.71],\n",
       "[ 0.18, -0.48, -0.38,  0.55,  0.54],\n",
       "[-0.32,  0.74, -0.51,  0.18,  0.22]])"
      ]
     },
     "execution_count": 6,
     "metadata": {},
     "output_type": "execute_result"
    }
   ],
   "source": [
    "sp.Matrix(np.round(Vt,2)) #Matrix V^t"
   ]
  },
  {
   "cell_type": "code",
   "execution_count": 7,
   "id": "8184c181",
   "metadata": {},
   "outputs": [
    {
     "data": {
      "text/latex": [
       "$\\displaystyle \\left[\\begin{matrix}8.0 & 5.0 & 5.0 & 7.0 & 0\\\\7.0 & 5.0 & 6.0 & 1.0 & 7.0\\\\0 & 4.0 & 9.0 & 7.0 & 5.0\\\\3.0 & 6.0 & 8.0 & 2.0 & 1.0\\\\1.0 & 0 & 5.0 & 2.0 & 2.0\\end{matrix}\\right]$"
      ],
      "text/plain": [
       "Matrix([\n",
       "[8.0, 5.0, 5.0, 7.0,   0],\n",
       "[7.0, 5.0, 6.0, 1.0, 7.0],\n",
       "[  0, 4.0, 9.0, 7.0, 5.0],\n",
       "[3.0, 6.0, 8.0, 2.0, 1.0],\n",
       "[1.0,   0, 5.0, 2.0, 2.0]])"
      ]
     },
     "execution_count": 7,
     "metadata": {},
     "output_type": "execute_result"
    }
   ],
   "source": [
    "A1 = np.dot(U, (np.dot(np.diag(s), Vt))) #Direct method to show the product of U,Sigma,V^t is matrix A\n",
    "sp.Matrix(np.round(A1,2))"
   ]
  },
  {
   "cell_type": "code",
   "execution_count": 8,
   "id": "e90bbfe2",
   "metadata": {},
   "outputs": [],
   "source": [
    "#Rank 2 Approximation of A"
   ]
  },
  {
   "cell_type": "code",
   "execution_count": 9,
   "id": "a6df5e9c",
   "metadata": {},
   "outputs": [
    {
     "data": {
      "text/latex": [
       "$\\displaystyle \\left[\\begin{matrix}-0.49 & 0.59\\\\-0.5 & 0.3\\\\-0.52 & -0.7\\\\-0.44 & -0.04\\\\-0.22 & -0.27\\end{matrix}\\right]$"
      ],
      "text/plain": [
       "Matrix([\n",
       "[-0.49,  0.59],\n",
       "[ -0.5,   0.3],\n",
       "[-0.52,  -0.7],\n",
       "[-0.44, -0.04],\n",
       "[-0.22, -0.27]])"
      ]
     },
     "execution_count": 9,
     "metadata": {},
     "output_type": "execute_result"
    }
   ],
   "source": [
    "U1 = U[:,:2]\n",
    "sp.Matrix(np.round(U1,2))"
   ]
  },
  {
   "cell_type": "code",
   "execution_count": 10,
   "id": "2eaa9e48",
   "metadata": {},
   "outputs": [
    {
     "data": {
      "text/latex": [
       "$\\displaystyle \\left[\\begin{matrix}22.76 & 0 & 0 & 0 & 0\\\\0 & 7.66 & 0 & 0 & 0\\\\0 & 0 & 6.57 & 0 & 0\\\\0 & 0 & 0 & 4.18 & 0\\\\0 & 0 & 0 & 0 & 2.21\\end{matrix}\\right]$"
      ],
      "text/plain": [
       "Matrix([\n",
       "[22.76,    0,    0,    0,    0],\n",
       "[    0, 7.66,    0,    0,    0],\n",
       "[    0,    0, 6.57,    0,    0],\n",
       "[    0,    0,    0, 4.18,    0],\n",
       "[    0,    0,    0,    0, 2.21]])"
      ]
     },
     "execution_count": 10,
     "metadata": {},
     "output_type": "execute_result"
    }
   ],
   "source": [
    "sp.Matrix(np.round(np.diag(s),2))"
   ]
  },
  {
   "cell_type": "code",
   "execution_count": 11,
   "id": "102c8567",
   "metadata": {},
   "outputs": [
    {
     "data": {
      "text/latex": [
       "$\\displaystyle \\left[\\begin{matrix}22.76 & 0\\\\0 & 7.66\\end{matrix}\\right]$"
      ],
      "text/plain": [
       "Matrix([\n",
       "[22.76,    0],\n",
       "[    0, 7.66]])"
      ]
     },
     "execution_count": 11,
     "metadata": {},
     "output_type": "execute_result"
    }
   ],
   "source": [
    "Sigma1 = np.diag(s)[:2,:2]\n",
    "sp.Matrix(np.round(Sigma1,2))"
   ]
  },
  {
   "cell_type": "code",
   "execution_count": 12,
   "id": "ec4c2cd0",
   "metadata": {},
   "outputs": [
    {
     "data": {
      "text/latex": [
       "$\\displaystyle \\left[\\begin{matrix}-0.39 & -0.42 & -0.65 & -0.39 & -0.31\\\\0.84 & 0.18 & -0.42 & -0.14 & -0.26\\end{matrix}\\right]$"
      ],
      "text/plain": [
       "Matrix([\n",
       "[-0.39, -0.42, -0.65, -0.39, -0.31],\n",
       "[ 0.84,  0.18, -0.42, -0.14, -0.26]])"
      ]
     },
     "execution_count": 12,
     "metadata": {},
     "output_type": "execute_result"
    }
   ],
   "source": [
    "Vt1 = Vt[:2,:]\n",
    "sp.Matrix(np.round(Vt1,2))"
   ]
  },
  {
   "cell_type": "code",
   "execution_count": 13,
   "id": "6e8fdb1a",
   "metadata": {},
   "outputs": [
    {
     "data": {
      "text/latex": [
       "$\\displaystyle \\left[\\begin{matrix}8.2 & 5.6 & 5.4 & 3.8 & 2.3\\\\6.4 & 5.2 & 6.3 & 4.1 & 2.9\\\\0.2 & 4.0 & 9.9 & 5.4 & 5.0\\\\3.7 & 4.2 & 6.6 & 4.0 & 3.1\\\\0.2 & 1.8 & 4.1 & 2.3 & 2.1\\end{matrix}\\right]$"
      ],
      "text/plain": [
       "Matrix([\n",
       "[8.2, 5.6, 5.4, 3.8, 2.3],\n",
       "[6.4, 5.2, 6.3, 4.1, 2.9],\n",
       "[0.2, 4.0, 9.9, 5.4, 5.0],\n",
       "[3.7, 4.2, 6.6, 4.0, 3.1],\n",
       "[0.2, 1.8, 4.1, 2.3, 2.1]])"
      ]
     },
     "execution_count": 13,
     "metadata": {},
     "output_type": "execute_result"
    }
   ],
   "source": [
    "A1 = U1@Sigma1@Vt1\n",
    "sp.Matrix(np.round(A1,1))"
   ]
  },
  {
   "cell_type": "code",
   "execution_count": 14,
   "id": "0b2a7221",
   "metadata": {},
   "outputs": [
    {
     "data": {
      "text/latex": [
       "$\\displaystyle \\left[\\begin{matrix}8.2 & 5.6 & 5.4 & 3.8 & 2.3\\\\6.4 & 5.2 & 6.3 & 4.1 & 2.9\\\\0.2 & 4.0 & 9.9 & 5.4 & 5.0\\\\3.7 & 4.2 & 6.6 & 4.0 & 3.1\\\\0.2 & 1.8 & 4.1 & 2.3 & 2.1\\end{matrix}\\right]$"
      ],
      "text/plain": [
       "Matrix([\n",
       "[8.2, 5.6, 5.4, 3.8, 2.3],\n",
       "[6.4, 5.2, 6.3, 4.1, 2.9],\n",
       "[0.2, 4.0, 9.9, 5.4, 5.0],\n",
       "[3.7, 4.2, 6.6, 4.0, 3.1],\n",
       "[0.2, 1.8, 4.1, 2.3, 2.1]])"
      ]
     },
     "execution_count": 14,
     "metadata": {},
     "output_type": "execute_result"
    }
   ],
   "source": [
    "rank_2_approx = np.dot(U[:, :2], np.dot(np.diag(s[:2]), Vt[:2, :]))\n",
    "sp.Matrix(np.round(rank_2_approx,1)) #Direct Rank 2 Approximation of A"
   ]
  },
  {
   "cell_type": "code",
   "execution_count": 15,
   "id": "f6f30c80",
   "metadata": {},
   "outputs": [],
   "source": [
    "#Rank 3 Approximation of A"
   ]
  },
  {
   "cell_type": "code",
   "execution_count": 16,
   "id": "c9ba702a",
   "metadata": {},
   "outputs": [
    {
     "data": {
      "text/latex": [
       "$\\displaystyle \\left[\\begin{matrix}-0.49 & 0.59 & 0.6\\\\-0.5 & 0.3 & -0.78\\\\-0.52 & -0.7 & 0.17\\\\-0.44 & -0.04 & 0.02\\\\-0.22 & -0.27 & -0.03\\end{matrix}\\right]$"
      ],
      "text/plain": [
       "Matrix([\n",
       "[-0.49,  0.59,   0.6],\n",
       "[ -0.5,   0.3, -0.78],\n",
       "[-0.52,  -0.7,  0.17],\n",
       "[-0.44, -0.04,  0.02],\n",
       "[-0.22, -0.27, -0.03]])"
      ]
     },
     "execution_count": 16,
     "metadata": {},
     "output_type": "execute_result"
    }
   ],
   "source": [
    "U2 = U[:,:3]\n",
    "sp.Matrix(np.round(U2,2))"
   ]
  },
  {
   "cell_type": "code",
   "execution_count": 17,
   "id": "69a69221",
   "metadata": {},
   "outputs": [
    {
     "data": {
      "text/latex": [
       "$\\displaystyle \\left[\\begin{matrix}22.76 & 0 & 0\\\\0 & 7.66 & 0\\\\0 & 0 & 6.57\\end{matrix}\\right]$"
      ],
      "text/plain": [
       "Matrix([\n",
       "[22.76,    0,    0],\n",
       "[    0, 7.66,    0],\n",
       "[    0,    0, 6.57]])"
      ]
     },
     "execution_count": 17,
     "metadata": {},
     "output_type": "execute_result"
    }
   ],
   "source": [
    "Sigma2 = np.diag(s)[:3,:3]\n",
    "sp.Matrix(np.round(Sigma2,2))"
   ]
  },
  {
   "cell_type": "code",
   "execution_count": 18,
   "id": "27757d61",
   "metadata": {},
   "outputs": [
    {
     "data": {
      "text/latex": [
       "$\\displaystyle \\left[\\begin{matrix}-0.39 & -0.42 & -0.65 & -0.39 & -0.31\\\\0.84 & 0.18 & -0.42 & -0.14 & -0.26\\\\-0.1 & -0.01 & -0.02 & 0.7 & -0.71\\end{matrix}\\right]$"
      ],
      "text/plain": [
       "Matrix([\n",
       "[-0.39, -0.42, -0.65, -0.39, -0.31],\n",
       "[ 0.84,  0.18, -0.42, -0.14, -0.26],\n",
       "[ -0.1, -0.01, -0.02,   0.7, -0.71]])"
      ]
     },
     "execution_count": 18,
     "metadata": {},
     "output_type": "execute_result"
    }
   ],
   "source": [
    "Vt2 = Vt[:3,:]\n",
    "sp.Matrix(np.round(Vt2,2))"
   ]
  },
  {
   "cell_type": "code",
   "execution_count": 19,
   "id": "9e2c81f6",
   "metadata": {},
   "outputs": [
    {
     "data": {
      "text/latex": [
       "$\\displaystyle \\left[\\begin{matrix}7.8 & 5.5 & 5.3 & 6.5 & -0.5\\\\6.9 & 5.3 & 6.4 & 0.5 & 6.5\\\\0 & 4.0 & 9.9 & 6.2 & 4.2\\\\3.7 & 4.2 & 6.6 & 4.1 & 3.0\\\\0.3 & 1.8 & 4.1 & 2.1 & 2.2\\end{matrix}\\right]$"
      ],
      "text/plain": [
       "Matrix([\n",
       "[7.8, 5.5, 5.3, 6.5, -0.5],\n",
       "[6.9, 5.3, 6.4, 0.5,  6.5],\n",
       "[  0, 4.0, 9.9, 6.2,  4.2],\n",
       "[3.7, 4.2, 6.6, 4.1,  3.0],\n",
       "[0.3, 1.8, 4.1, 2.1,  2.2]])"
      ]
     },
     "execution_count": 19,
     "metadata": {},
     "output_type": "execute_result"
    }
   ],
   "source": [
    "A2 = U2@Sigma2@Vt2\n",
    "sp.Matrix(np.round(A2,1))"
   ]
  },
  {
   "cell_type": "code",
   "execution_count": 20,
   "id": "e6268e20",
   "metadata": {},
   "outputs": [
    {
     "data": {
      "text/latex": [
       "$\\displaystyle \\left[\\begin{matrix}7.8 & 5.5 & 5.3 & 6.5 & -0.5\\\\6.9 & 5.3 & 6.4 & 0.5 & 6.5\\\\0 & 4.0 & 9.9 & 6.2 & 4.2\\\\3.7 & 4.2 & 6.6 & 4.1 & 3.0\\\\0.3 & 1.8 & 4.1 & 2.1 & 2.2\\end{matrix}\\right]$"
      ],
      "text/plain": [
       "Matrix([\n",
       "[7.8, 5.5, 5.3, 6.5, -0.5],\n",
       "[6.9, 5.3, 6.4, 0.5,  6.5],\n",
       "[  0, 4.0, 9.9, 6.2,  4.2],\n",
       "[3.7, 4.2, 6.6, 4.1,  3.0],\n",
       "[0.3, 1.8, 4.1, 2.1,  2.2]])"
      ]
     },
     "execution_count": 20,
     "metadata": {},
     "output_type": "execute_result"
    }
   ],
   "source": [
    "rank_3_approx = np.dot(U[:, :3], np.dot(np.diag(s[:3]), Vt[:3, :]))\n",
    "sp.Matrix(np.round(rank_3_approx,1)) #Direct Rank 3 Approximation of A"
   ]
  }
 ],
 "metadata": {
  "kernelspec": {
   "display_name": "Python 3 (ipykernel)",
   "language": "python",
   "name": "python3"
  },
  "language_info": {
   "codemirror_mode": {
    "name": "ipython",
    "version": 3
   },
   "file_extension": ".py",
   "mimetype": "text/x-python",
   "name": "python",
   "nbconvert_exporter": "python",
   "pygments_lexer": "ipython3",
   "version": "3.11.2"
  }
 },
 "nbformat": 4,
 "nbformat_minor": 5
}

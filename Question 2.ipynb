{
 "cells": [
  {
   "cell_type": "markdown",
   "id": "b96af0ac",
   "metadata": {},
   "source": [
    "# Name:- Anushka Pradeep Jadhav\n",
    "# Roll No.:- 23091015"
   ]
  },
  {
   "cell_type": "markdown",
   "id": "4f33b511",
   "metadata": {},
   "source": [
    "Q2. Row Echelon Form:"
   ]
  },
  {
   "cell_type": "markdown",
   "id": "dc25589a",
   "metadata": {},
   "source": [
    "Create a 5x5 matrix, A, with entries randomly chosen integers between 0 and 9. To generate the\n",
    "random matrix, set the random seed as the last two digits of your roll number. Reduce matrix A to its\n",
    "Row Echelon Form by performing elementary row operations."
   ]
  },
  {
   "cell_type": "code",
   "execution_count": 1,
   "id": "c75c4b18",
   "metadata": {},
   "outputs": [],
   "source": [
    "#Importing the necessary library\n",
    "import numpy as np\n",
    "import sympy as sp"
   ]
  },
  {
   "cell_type": "code",
   "execution_count": 2,
   "id": "1e0db0db",
   "metadata": {},
   "outputs": [
    {
     "data": {
      "text/latex": [
       "$\\displaystyle \\left[\\begin{matrix}8 & 5 & 5 & 7 & 0\\\\7 & 5 & 6 & 1 & 7\\\\0 & 4 & 9 & 7 & 5\\\\3 & 6 & 8 & 2 & 1\\\\1 & 0 & 5 & 2 & 2\\end{matrix}\\right]$"
      ],
      "text/plain": [
       "Matrix([\n",
       "[8, 5, 5, 7, 0],\n",
       "[7, 5, 6, 1, 7],\n",
       "[0, 4, 9, 7, 5],\n",
       "[3, 6, 8, 2, 1],\n",
       "[1, 0, 5, 2, 2]])"
      ]
     },
     "execution_count": 2,
     "metadata": {},
     "output_type": "execute_result"
    }
   ],
   "source": [
    "np.random.seed(15) #random seed as the last two digits of your roll number 23091015 \n",
    "A = np.random.randint(0,10,(5,5)) #Random Matrix A of order 5*5 with entries between integer 0 and 9\n",
    "A1=sp.Matrix(A)\n",
    "A1"
   ]
  },
  {
   "cell_type": "code",
   "execution_count": 3,
   "id": "4720cb1d",
   "metadata": {},
   "outputs": [
    {
     "data": {
      "text/plain": [
       "(Matrix([\n",
       " [1, 0, 0, 0, 0],\n",
       " [0, 1, 0, 0, 0],\n",
       " [0, 0, 1, 0, 0],\n",
       " [0, 0, 0, 1, 0],\n",
       " [0, 0, 0, 0, 1]]),\n",
       " (0, 1, 2, 3, 4))"
      ]
     },
     "execution_count": 3,
     "metadata": {},
     "output_type": "execute_result"
    }
   ],
   "source": [
    "rref_A = A1.rref() #Direct formula for Row Reduced Echelon Form in Numpy library\n",
    "rref_A"
   ]
  },
  {
   "cell_type": "code",
   "execution_count": 4,
   "id": "69b1fe16",
   "metadata": {},
   "outputs": [],
   "source": [
    "#In Row Echelon Form we convert a matrix in Lower/Upper Triangular Matrix\n",
    "#In Reduced Row Echelon Form we convert a matrix in Identity Matrix\n",
    "#Here we will convert our Matrix A into identity matrix using elementary row transformation"
   ]
  },
  {
   "cell_type": "code",
   "execution_count": 5,
   "id": "34c65a9d",
   "metadata": {},
   "outputs": [
    {
     "data": {
      "text/latex": [
       "$\\displaystyle \\left[\\begin{matrix}1 & 0 & 0 & 0 & 0\\\\7 & 5 & 6 & 1 & 7\\\\0 & 4 & 9 & 7 & 5\\\\3 & 6 & 8 & 2 & 1\\\\1 & 0 & 5 & 2 & 2\\end{matrix}\\right]$"
      ],
      "text/plain": [
       "Matrix([\n",
       "[1, 0, 0, 0, 0],\n",
       "[7, 5, 6, 1, 7],\n",
       "[0, 4, 9, 7, 5],\n",
       "[3, 6, 8, 2, 1],\n",
       "[1, 0, 5, 2, 2]])"
      ]
     },
     "execution_count": 5,
     "metadata": {},
     "output_type": "execute_result"
    }
   ],
   "source": [
    "#Converting leading entry of first column into 1\n",
    "A[0]=A[0]/8\n",
    "sp.Matrix(A)"
   ]
  },
  {
   "cell_type": "code",
   "execution_count": 6,
   "id": "7ce371a6",
   "metadata": {},
   "outputs": [],
   "source": [
    "#converting all other entries of first column into 0 "
   ]
  },
  {
   "cell_type": "code",
   "execution_count": 7,
   "id": "b372f4a9",
   "metadata": {},
   "outputs": [
    {
     "data": {
      "text/latex": [
       "$\\displaystyle \\left[\\begin{matrix}1 & 0 & 0 & 0 & 0\\\\0 & 5 & 6 & 1 & 7\\\\0 & 4 & 9 & 7 & 5\\\\3 & 6 & 8 & 2 & 1\\\\1 & 0 & 5 & 2 & 2\\end{matrix}\\right]$"
      ],
      "text/plain": [
       "Matrix([\n",
       "[1, 0, 0, 0, 0],\n",
       "[0, 5, 6, 1, 7],\n",
       "[0, 4, 9, 7, 5],\n",
       "[3, 6, 8, 2, 1],\n",
       "[1, 0, 5, 2, 2]])"
      ]
     },
     "execution_count": 7,
     "metadata": {},
     "output_type": "execute_result"
    }
   ],
   "source": [
    "A[1]=A[1]-7*A[0]\n",
    "sp.Matrix(A)"
   ]
  },
  {
   "cell_type": "code",
   "execution_count": 8,
   "id": "2b034ec7",
   "metadata": {},
   "outputs": [
    {
     "data": {
      "text/latex": [
       "$\\displaystyle \\left[\\begin{matrix}1 & 0 & 0 & 0 & 0\\\\0 & 5 & 6 & 1 & 7\\\\0 & 4 & 9 & 7 & 5\\\\0 & 6 & 8 & 2 & 1\\\\1 & 0 & 5 & 2 & 2\\end{matrix}\\right]$"
      ],
      "text/plain": [
       "Matrix([\n",
       "[1, 0, 0, 0, 0],\n",
       "[0, 5, 6, 1, 7],\n",
       "[0, 4, 9, 7, 5],\n",
       "[0, 6, 8, 2, 1],\n",
       "[1, 0, 5, 2, 2]])"
      ]
     },
     "execution_count": 8,
     "metadata": {},
     "output_type": "execute_result"
    }
   ],
   "source": [
    "A[3]=A[3]-3*A[0]\n",
    "sp.Matrix(A)"
   ]
  },
  {
   "cell_type": "code",
   "execution_count": 9,
   "id": "e9b43fda",
   "metadata": {},
   "outputs": [
    {
     "data": {
      "text/latex": [
       "$\\displaystyle \\left[\\begin{matrix}1 & 0 & 0 & 0 & 0\\\\0 & 5 & 6 & 1 & 7\\\\0 & 4 & 9 & 7 & 5\\\\0 & 6 & 8 & 2 & 1\\\\0 & 0 & 5 & 2 & 2\\end{matrix}\\right]$"
      ],
      "text/plain": [
       "Matrix([\n",
       "[1, 0, 0, 0, 0],\n",
       "[0, 5, 6, 1, 7],\n",
       "[0, 4, 9, 7, 5],\n",
       "[0, 6, 8, 2, 1],\n",
       "[0, 0, 5, 2, 2]])"
      ]
     },
     "execution_count": 9,
     "metadata": {},
     "output_type": "execute_result"
    }
   ],
   "source": [
    "A[4]=A[4]-A[0]\n",
    "sp.Matrix(A)"
   ]
  },
  {
   "cell_type": "code",
   "execution_count": 10,
   "id": "adcfd9f9",
   "metadata": {},
   "outputs": [
    {
     "data": {
      "text/latex": [
       "$\\displaystyle \\left[\\begin{matrix}1 & 0 & 0 & 0 & 0\\\\0 & 1 & 1 & 0 & 1\\\\0 & 4 & 9 & 7 & 5\\\\0 & 6 & 8 & 2 & 1\\\\0 & 0 & 5 & 2 & 2\\end{matrix}\\right]$"
      ],
      "text/plain": [
       "Matrix([\n",
       "[1, 0, 0, 0, 0],\n",
       "[0, 1, 1, 0, 1],\n",
       "[0, 4, 9, 7, 5],\n",
       "[0, 6, 8, 2, 1],\n",
       "[0, 0, 5, 2, 2]])"
      ]
     },
     "execution_count": 10,
     "metadata": {},
     "output_type": "execute_result"
    }
   ],
   "source": [
    "#converting second entry of second column into 1\n",
    "A[1]=A[1]/5\n",
    "sp.Matrix(A)"
   ]
  },
  {
   "cell_type": "code",
   "execution_count": 11,
   "id": "2093e20f",
   "metadata": {},
   "outputs": [],
   "source": [
    "#converting all other entries of second column into 0 "
   ]
  },
  {
   "cell_type": "code",
   "execution_count": 12,
   "id": "61b8477f",
   "metadata": {},
   "outputs": [
    {
     "data": {
      "text/latex": [
       "$\\displaystyle \\left[\\begin{matrix}1 & 0 & 0 & 0 & 0\\\\0 & 1 & 1 & 0 & 1\\\\0 & 0 & 5 & 7 & 1\\\\0 & 6 & 8 & 2 & 1\\\\0 & 0 & 5 & 2 & 2\\end{matrix}\\right]$"
      ],
      "text/plain": [
       "Matrix([\n",
       "[1, 0, 0, 0, 0],\n",
       "[0, 1, 1, 0, 1],\n",
       "[0, 0, 5, 7, 1],\n",
       "[0, 6, 8, 2, 1],\n",
       "[0, 0, 5, 2, 2]])"
      ]
     },
     "execution_count": 12,
     "metadata": {},
     "output_type": "execute_result"
    }
   ],
   "source": [
    "A[2]=A[2]-4*A[1]\n",
    "sp.Matrix(A)"
   ]
  },
  {
   "cell_type": "code",
   "execution_count": 13,
   "id": "3e396ae0",
   "metadata": {},
   "outputs": [
    {
     "data": {
      "text/latex": [
       "$\\displaystyle \\left[\\begin{matrix}1 & 0 & 0 & 0 & 0\\\\0 & 1 & 1 & 0 & 1\\\\0 & 0 & 5 & 7 & 1\\\\0 & 0 & 2 & 2 & -5\\\\0 & 0 & 5 & 2 & 2\\end{matrix}\\right]$"
      ],
      "text/plain": [
       "Matrix([\n",
       "[1, 0, 0, 0,  0],\n",
       "[0, 1, 1, 0,  1],\n",
       "[0, 0, 5, 7,  1],\n",
       "[0, 0, 2, 2, -5],\n",
       "[0, 0, 5, 2,  2]])"
      ]
     },
     "execution_count": 13,
     "metadata": {},
     "output_type": "execute_result"
    }
   ],
   "source": [
    "A[3]=A[3]-6*A[1]\n",
    "sp.Matrix(A)"
   ]
  },
  {
   "cell_type": "code",
   "execution_count": 14,
   "id": "98caddff",
   "metadata": {},
   "outputs": [
    {
     "data": {
      "text/latex": [
       "$\\displaystyle \\left[\\begin{matrix}1 & 0 & 0 & 0 & 0\\\\0 & 1 & 1 & 0 & 1\\\\0 & 0 & 1 & 1 & 0\\\\0 & 0 & 2 & 2 & -5\\\\0 & 0 & 5 & 2 & 2\\end{matrix}\\right]$"
      ],
      "text/plain": [
       "Matrix([\n",
       "[1, 0, 0, 0,  0],\n",
       "[0, 1, 1, 0,  1],\n",
       "[0, 0, 1, 1,  0],\n",
       "[0, 0, 2, 2, -5],\n",
       "[0, 0, 5, 2,  2]])"
      ]
     },
     "execution_count": 14,
     "metadata": {},
     "output_type": "execute_result"
    }
   ],
   "source": [
    "#converting third entry of third column into 1\n",
    "A[2]=A[2]/5\n",
    "sp.Matrix(A)"
   ]
  },
  {
   "cell_type": "code",
   "execution_count": 15,
   "id": "18190b6f",
   "metadata": {},
   "outputs": [],
   "source": [
    "#converting all other entries of third column into 0 "
   ]
  },
  {
   "cell_type": "code",
   "execution_count": 16,
   "id": "7d46f802",
   "metadata": {},
   "outputs": [
    {
     "data": {
      "text/latex": [
       "$\\displaystyle \\left[\\begin{matrix}1 & 0 & 0 & 0 & 0\\\\0 & 1 & 0 & -1 & 1\\\\0 & 0 & 1 & 1 & 0\\\\0 & 0 & 2 & 2 & -5\\\\0 & 0 & 5 & 2 & 2\\end{matrix}\\right]$"
      ],
      "text/plain": [
       "Matrix([\n",
       "[1, 0, 0,  0,  0],\n",
       "[0, 1, 0, -1,  1],\n",
       "[0, 0, 1,  1,  0],\n",
       "[0, 0, 2,  2, -5],\n",
       "[0, 0, 5,  2,  2]])"
      ]
     },
     "execution_count": 16,
     "metadata": {},
     "output_type": "execute_result"
    }
   ],
   "source": [
    "A[1]=A[1]-A[2]\n",
    "sp.Matrix(A)"
   ]
  },
  {
   "cell_type": "code",
   "execution_count": 17,
   "id": "4d2950dc",
   "metadata": {},
   "outputs": [
    {
     "data": {
      "text/latex": [
       "$\\displaystyle \\left[\\begin{matrix}1 & 0 & 0 & 0 & 0\\\\0 & 1 & 0 & -1 & 1\\\\0 & 0 & 1 & 1 & 0\\\\0 & 0 & 0 & 0 & -5\\\\0 & 0 & 5 & 2 & 2\\end{matrix}\\right]$"
      ],
      "text/plain": [
       "Matrix([\n",
       "[1, 0, 0,  0,  0],\n",
       "[0, 1, 0, -1,  1],\n",
       "[0, 0, 1,  1,  0],\n",
       "[0, 0, 0,  0, -5],\n",
       "[0, 0, 5,  2,  2]])"
      ]
     },
     "execution_count": 17,
     "metadata": {},
     "output_type": "execute_result"
    }
   ],
   "source": [
    "A[3]=A[3]-2*A[2]\n",
    "sp.Matrix(A)"
   ]
  },
  {
   "cell_type": "code",
   "execution_count": 18,
   "id": "debd7b9a",
   "metadata": {},
   "outputs": [
    {
     "data": {
      "text/latex": [
       "$\\displaystyle \\left[\\begin{matrix}1 & 0 & 0 & 0 & 0\\\\0 & 1 & 0 & -1 & 1\\\\0 & 0 & 1 & 1 & 0\\\\0 & 0 & 0 & 0 & -5\\\\0 & 0 & 0 & -3 & 2\\end{matrix}\\right]$"
      ],
      "text/plain": [
       "Matrix([\n",
       "[1, 0, 0,  0,  0],\n",
       "[0, 1, 0, -1,  1],\n",
       "[0, 0, 1,  1,  0],\n",
       "[0, 0, 0,  0, -5],\n",
       "[0, 0, 0, -3,  2]])"
      ]
     },
     "execution_count": 18,
     "metadata": {},
     "output_type": "execute_result"
    }
   ],
   "source": [
    "A[4]=A[4]-5*A[2]\n",
    "sp.Matrix(A)"
   ]
  },
  {
   "cell_type": "code",
   "execution_count": 19,
   "id": "5c25e159",
   "metadata": {},
   "outputs": [
    {
     "data": {
      "text/latex": [
       "$\\displaystyle \\left[\\begin{matrix}1 & 0 & 0 & 0 & 0\\\\0 & 1 & 0 & -1 & 1\\\\0 & 0 & 1 & 1 & 0\\\\0 & 0 & 0 & -3 & 2\\\\0 & 0 & 0 & 0 & -5\\end{matrix}\\right]$"
      ],
      "text/plain": [
       "Matrix([\n",
       "[1, 0, 0,  0,  0],\n",
       "[0, 1, 0, -1,  1],\n",
       "[0, 0, 1,  1,  0],\n",
       "[0, 0, 0, -3,  2],\n",
       "[0, 0, 0,  0, -5]])"
      ]
     },
     "execution_count": 19,
     "metadata": {},
     "output_type": "execute_result"
    }
   ],
   "source": [
    "#Interchanging row 4 and 5\n",
    "A[[3, 4]] = A[[4, 3]] \n",
    "sp.Matrix(A)"
   ]
  },
  {
   "cell_type": "code",
   "execution_count": 20,
   "id": "97ec7adc",
   "metadata": {},
   "outputs": [
    {
     "data": {
      "text/latex": [
       "$\\displaystyle \\left[\\begin{matrix}1 & 0 & 0 & 0 & 0\\\\0 & 1 & 0 & -1 & 1\\\\0 & 0 & 1 & 1 & 0\\\\0 & 0 & 0 & 1 & 0\\\\0 & 0 & 0 & 0 & -5\\end{matrix}\\right]$"
      ],
      "text/plain": [
       "Matrix([\n",
       "[1, 0, 0,  0,  0],\n",
       "[0, 1, 0, -1,  1],\n",
       "[0, 0, 1,  1,  0],\n",
       "[0, 0, 0,  1,  0],\n",
       "[0, 0, 0,  0, -5]])"
      ]
     },
     "execution_count": 20,
     "metadata": {},
     "output_type": "execute_result"
    }
   ],
   "source": [
    "#converting fourth entry of fourth column into 1\n",
    "A[3]=-(A[3]/3)\n",
    "sp.Matrix(A)"
   ]
  },
  {
   "cell_type": "code",
   "execution_count": 21,
   "id": "0ed5f94d",
   "metadata": {},
   "outputs": [],
   "source": [
    "#converting all other entries of fourth column into 0 "
   ]
  },
  {
   "cell_type": "code",
   "execution_count": 22,
   "id": "5ae0f202",
   "metadata": {},
   "outputs": [
    {
     "data": {
      "text/latex": [
       "$\\displaystyle \\left[\\begin{matrix}1 & 0 & 0 & 0 & 0\\\\0 & 1 & 0 & -1 & 1\\\\0 & 0 & 1 & 0 & 0\\\\0 & 0 & 0 & 1 & 0\\\\0 & 0 & 0 & 0 & -5\\end{matrix}\\right]$"
      ],
      "text/plain": [
       "Matrix([\n",
       "[1, 0, 0,  0,  0],\n",
       "[0, 1, 0, -1,  1],\n",
       "[0, 0, 1,  0,  0],\n",
       "[0, 0, 0,  1,  0],\n",
       "[0, 0, 0,  0, -5]])"
      ]
     },
     "execution_count": 22,
     "metadata": {},
     "output_type": "execute_result"
    }
   ],
   "source": [
    "A[2]=A[2]-A[3]\n",
    "sp.Matrix(A)"
   ]
  },
  {
   "cell_type": "code",
   "execution_count": 23,
   "id": "5473de33",
   "metadata": {},
   "outputs": [
    {
     "data": {
      "text/latex": [
       "$\\displaystyle \\left[\\begin{matrix}1 & 0 & 0 & 0 & 0\\\\0 & 1 & 0 & 0 & 1\\\\0 & 0 & 1 & 0 & 0\\\\0 & 0 & 0 & 1 & 0\\\\0 & 0 & 0 & 0 & -5\\end{matrix}\\right]$"
      ],
      "text/plain": [
       "Matrix([\n",
       "[1, 0, 0, 0,  0],\n",
       "[0, 1, 0, 0,  1],\n",
       "[0, 0, 1, 0,  0],\n",
       "[0, 0, 0, 1,  0],\n",
       "[0, 0, 0, 0, -5]])"
      ]
     },
     "execution_count": 23,
     "metadata": {},
     "output_type": "execute_result"
    }
   ],
   "source": [
    "A[1]=A[1]+A[3]\n",
    "sp.Matrix(A)"
   ]
  },
  {
   "cell_type": "code",
   "execution_count": 24,
   "id": "ade70390",
   "metadata": {},
   "outputs": [
    {
     "data": {
      "text/latex": [
       "$\\displaystyle \\left[\\begin{matrix}1 & 0 & 0 & 0 & 0\\\\0 & 1 & 0 & 0 & 1\\\\0 & 0 & 1 & 0 & 0\\\\0 & 0 & 0 & 1 & 0\\\\0 & 0 & 0 & 0 & 1\\end{matrix}\\right]$"
      ],
      "text/plain": [
       "Matrix([\n",
       "[1, 0, 0, 0, 0],\n",
       "[0, 1, 0, 0, 1],\n",
       "[0, 0, 1, 0, 0],\n",
       "[0, 0, 0, 1, 0],\n",
       "[0, 0, 0, 0, 1]])"
      ]
     },
     "execution_count": 24,
     "metadata": {},
     "output_type": "execute_result"
    }
   ],
   "source": [
    "#converting fifth entry of fifth column into 1\n",
    "A[4]=-(A[4]/5)\n",
    "sp.Matrix(A)"
   ]
  },
  {
   "cell_type": "code",
   "execution_count": 25,
   "id": "419b839e",
   "metadata": {},
   "outputs": [],
   "source": [
    "#converting all other entries of fifth column into 0 "
   ]
  },
  {
   "cell_type": "code",
   "execution_count": 26,
   "id": "8bacdb96",
   "metadata": {},
   "outputs": [
    {
     "data": {
      "text/latex": [
       "$\\displaystyle \\left[\\begin{matrix}1 & 0 & 0 & 0 & 0\\\\0 & 1 & 0 & 0 & 0\\\\0 & 0 & 1 & 0 & 0\\\\0 & 0 & 0 & 1 & 0\\\\0 & 0 & 0 & 0 & 1\\end{matrix}\\right]$"
      ],
      "text/plain": [
       "Matrix([\n",
       "[1, 0, 0, 0, 0],\n",
       "[0, 1, 0, 0, 0],\n",
       "[0, 0, 1, 0, 0],\n",
       "[0, 0, 0, 1, 0],\n",
       "[0, 0, 0, 0, 1]])"
      ]
     },
     "execution_count": 26,
     "metadata": {},
     "output_type": "execute_result"
    }
   ],
   "source": [
    "A[1]=A[1]-A[4]\n",
    "sp.Matrix(A)"
   ]
  },
  {
   "cell_type": "code",
   "execution_count": 27,
   "id": "bc039b9e",
   "metadata": {},
   "outputs": [],
   "source": [
    "#Thus we obtain identity matrix"
   ]
  }
 ],
 "metadata": {
  "kernelspec": {
   "display_name": "Python 3 (ipykernel)",
   "language": "python",
   "name": "python3"
  },
  "language_info": {
   "codemirror_mode": {
    "name": "ipython",
    "version": 3
   },
   "file_extension": ".py",
   "mimetype": "text/x-python",
   "name": "python",
   "nbconvert_exporter": "python",
   "pygments_lexer": "ipython3",
   "version": "3.11.2"
  }
 },
 "nbformat": 4,
 "nbformat_minor": 5
}
